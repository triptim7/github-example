{
 "cells": [
  {
   "cell_type": "markdown",
   "metadata": {},
   "source": [
    "## Applied data Science project"
   ]
  },
  {
   "cell_type": "markdown",
   "metadata": {},
   "source": [
    "#### Importing Libraries & using BeautifulSoup to extract the table from Wiki page"
   ]
  },
  {
   "cell_type": "code",
   "execution_count": 121,
   "metadata": {},
   "outputs": [],
   "source": [
    "import urllib.request\n",
    "import pandas as pd\n",
    "\n",
    "url = 'https://en.wikipedia.org/wiki/List_of_postal_codes_of_Canada:_M'\n",
    "req = urllib.request.urlopen(url)\n",
    "article = req.read().decode()\n",
    "\n",
    "with open('List_of_postal_codes_of_Canada:_M.html', 'w') as fo:\n",
    "    fo.write(article)\n",
    "    \n",
    "from bs4 import BeautifulSoup\n",
    "\n",
    "# Load article, turn into soup and get the <table>s.\n",
    "article = open('List_of_postal_codes_of_Canada:_M.html').read()\n",
    "soup = BeautifulSoup(article, 'html.parser')\n",
    "tables = soup.find_all('table', class_='sortable')\n",
    "\n",
    "# Search through the tables for the one with the headings we want.\n",
    "for table in tables:\n",
    "    ths = table.find_all('th')\n",
    "    headings = [th.text.strip() for th in ths]\n",
    "    if headings[:3] == ['Postcode', 'Borough', 'Neighbourhood']:\n",
    "        break\n",
    "# Extract the columns we want and write to a semicolon-delimited text file.\n",
    "\n",
    "with open('List_of_postal_codes_of_Canada:_M.txt', 'w') as fo:\n",
    "    for tr in table.find_all('tr'):\n",
    "        tds = tr.find_all('td')\n",
    "        \n",
    "        if not tds:\n",
    "            continue\n",
    "        Postcode, Borough, Neighbourhood = [td.text.strip() for td in tds[:4]]\n",
    "        # Wikipedia does something funny with country names containing\n",
    "        # accented characters: extract the correct string form.\n",
    "        #if '!' in country:\n",
    "         #   country = country[country.index('!')+1:]\n",
    "        print('; '.join([Postcode, Borough, Neighbourhood]), file=fo)\n",
    "    \n",
    "\n",
    "df = pd.read_csv('List_of_postal_codes_of_Canada:_M.txt', sep=';', header=None, names=['Postcode', 'Borough', 'Neighbourhood'])\n"
   ]
  },
  {
   "cell_type": "markdown",
   "metadata": {},
   "source": [
    "#### Drop the rows with Borough = ' Not assigned', group rows with same Postcode & replace Neighbourhood with value of Borough wherever Not assigned"
   ]
  },
  {
   "cell_type": "code",
   "execution_count": 105,
   "metadata": {},
   "outputs": [],
   "source": [
    "df.drop(df[df['Borough'] == ' Not assigned'].index, inplace = True, axis = 0)\n",
    "df1 = df[['Postcode', 'Borough']]\n",
    "df = df.groupby('Postcode')['Neighbourhood'].agg(','.join).reset_index()\n",
    "df1.drop_duplicates(keep='first',inplace = True)\n",
    "data = pd.merge(left=df1,right=df, left_on='Postcode', right_on='Postcode')\n",
    "data['Neighbourhood'][data[data['Neighbourhood']==' Not assigned'].index]= data['Borough'][data[data['Neighbourhood']==' Not assigned'].index]"
   ]
  },
  {
   "cell_type": "code",
   "execution_count": 122,
   "metadata": {},
   "outputs": [
    {
     "data": {
      "text/plain": [
       "(103, 3)"
      ]
     },
     "execution_count": 122,
     "metadata": {},
     "output_type": "execute_result"
    }
   ],
   "source": [
    "data.shape"
   ]
  }
 ],
 "metadata": {
  "kernelspec": {
   "display_name": "Python 3.6",
   "language": "python",
   "name": "python3"
  },
  "language_info": {
   "codemirror_mode": {
    "name": "ipython",
    "version": 3
   },
   "file_extension": ".py",
   "mimetype": "text/x-python",
   "name": "python",
   "nbconvert_exporter": "python",
   "pygments_lexer": "ipython3",
   "version": "3.6.8"
  }
 },
 "nbformat": 4,
 "nbformat_minor": 1
}
